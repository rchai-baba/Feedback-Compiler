{
 "cells": [
  {
   "cell_type": "code",
   "execution_count": null,
   "id": "8ae8e3fb",
   "metadata": {},
   "outputs": [],
   "source": [
    "import pandas as pd"
   ]
  },
  {
   "cell_type": "code",
   "execution_count": 14,
   "id": "bf578173",
   "metadata": {},
   "outputs": [],
   "source": [
    "def process_data(filename):\n",
    "    responses = pd.read_csv(filename, skiprows=1, names=['Timestamp', 'Username', 'First Name', 'Last Name', 'Participation', 'Enthusiasm', 'Communication', 'Overall', 'Good', 'Improve'])\n",
    "\n",
    "    responses.drop(columns=['Timestamp','Username'])\n",
    "\n",
    "    p_score = responses.groupby(['First Name', 'Last Name'])['Participation'].mean()\n",
    "    e_score = responses.groupby(['First Name', 'Last Name'])['Enthusiasm'].mean()\n",
    "    c_score = responses.groupby(['First Name', 'Last Name'])['Communication'].mean()\n",
    "    o_score = responses.groupby(['First Name', 'Last Name'])['Overall'].mean()\n",
    "\n",
    "    g_feedback = responses.groupby(['First Name', 'Last Name'])['Good'].agg(lambda x: \"\\n\".join(x))\n",
    "    b_feedback = responses.groupby(['First Name', 'Last Name'])['Improve'].agg(lambda x: \"\\n\".join(x))\n",
    "\n",
    "    final_df = pd.concat([p_score, e_score, c_score, o_score, g_feedback, b_feedback], axis=1)\n",
    "    final_df.reset_index(inplace=True)\n",
    "    final_df.head()"
   ]
  },
  {
   "cell_type": "code",
   "execution_count": 15,
   "id": "3dd1b1fe",
   "metadata": {},
   "outputs": [
    {
     "ename": "TclError",
     "evalue": "no display name and no $DISPLAY environment variable",
     "output_type": "error",
     "traceback": [
      "\u001b[0;31m---------------------------------------------------------------------------\u001b[0m",
      "\u001b[0;31mTclError\u001b[0m                                  Traceback (most recent call last)",
      "Cell \u001b[0;32mIn[15], line 37\u001b[0m\n\u001b[1;32m     34\u001b[0m     root\u001b[38;5;241m.\u001b[39mdestroy()\n\u001b[1;32m     36\u001b[0m \u001b[38;5;66;03m# Create window\u001b[39;00m\n\u001b[0;32m---> 37\u001b[0m root \u001b[38;5;241m=\u001b[39m \u001b[43mtk\u001b[49m\u001b[38;5;241;43m.\u001b[39;49m\u001b[43mTk\u001b[49m\u001b[43m(\u001b[49m\u001b[43m)\u001b[49m\n\u001b[1;32m     38\u001b[0m root\u001b[38;5;241m.\u001b[39mtitle(\u001b[38;5;124m\"\u001b[39m\u001b[38;5;124mFeedback Compiler\u001b[39m\u001b[38;5;124m\"\u001b[39m)\n\u001b[1;32m     39\u001b[0m root\u001b[38;5;241m.\u001b[39mgeometry(\u001b[38;5;124m\"\u001b[39m\u001b[38;5;124m550x200\u001b[39m\u001b[38;5;124m\"\u001b[39m)\n",
      "File \u001b[0;32m/opt/saturncloud/envs/saturn/lib/python3.10/tkinter/__init__.py:2299\u001b[0m, in \u001b[0;36mTk.__init__\u001b[0;34m(self, screenName, baseName, className, useTk, sync, use)\u001b[0m\n\u001b[1;32m   2297\u001b[0m         baseName \u001b[38;5;241m=\u001b[39m baseName \u001b[38;5;241m+\u001b[39m ext\n\u001b[1;32m   2298\u001b[0m interactive \u001b[38;5;241m=\u001b[39m \u001b[38;5;28;01mFalse\u001b[39;00m\n\u001b[0;32m-> 2299\u001b[0m \u001b[38;5;28mself\u001b[39m\u001b[38;5;241m.\u001b[39mtk \u001b[38;5;241m=\u001b[39m \u001b[43m_tkinter\u001b[49m\u001b[38;5;241;43m.\u001b[39;49m\u001b[43mcreate\u001b[49m\u001b[43m(\u001b[49m\u001b[43mscreenName\u001b[49m\u001b[43m,\u001b[49m\u001b[43m \u001b[49m\u001b[43mbaseName\u001b[49m\u001b[43m,\u001b[49m\u001b[43m \u001b[49m\u001b[43mclassName\u001b[49m\u001b[43m,\u001b[49m\u001b[43m \u001b[49m\u001b[43minteractive\u001b[49m\u001b[43m,\u001b[49m\u001b[43m \u001b[49m\u001b[43mwantobjects\u001b[49m\u001b[43m,\u001b[49m\u001b[43m \u001b[49m\u001b[43museTk\u001b[49m\u001b[43m,\u001b[49m\u001b[43m \u001b[49m\u001b[43msync\u001b[49m\u001b[43m,\u001b[49m\u001b[43m \u001b[49m\u001b[43muse\u001b[49m\u001b[43m)\u001b[49m\n\u001b[1;32m   2300\u001b[0m \u001b[38;5;28;01mif\u001b[39;00m useTk:\n\u001b[1;32m   2301\u001b[0m     \u001b[38;5;28mself\u001b[39m\u001b[38;5;241m.\u001b[39m_loadtk()\n",
      "\u001b[0;31mTclError\u001b[0m: no display name and no $DISPLAY environment variable"
     ]
    }
   ],
   "source": [
    "import tkinter as tk\n",
    "from tkinter import filedialog, messagebox\n",
    "\n",
    "def browse_file():\n",
    "    filename = filedialog.askopenfilename(\n",
    "        title=\"Select feedback file\",\n",
    "        filetypes=[(\"Excel files\", \"*.xlsx *.xls\"), (\"CSV files\", \"*.csv\"), (\"All files\", \"*.*\")]\n",
    "    )\n",
    "    if filename:\n",
    "        file_path_var.set(filename)\n",
    "\n",
    "def submit():\n",
    "    file_path = file_path_var.get()\n",
    "    num_cols = num_cols_var.get()\n",
    "    \n",
    "    if not file_path:\n",
    "        messagebox.showerror(\"Error\", \"Please select a file\")\n",
    "        return\n",
    "    \n",
    "    if not num_cols:\n",
    "        messagebox.showerror(\"Error\", \"Please enter number of data columns\")\n",
    "        return\n",
    "    \n",
    "    try:\n",
    "        num_cols = int(num_cols)\n",
    "    except ValueError:\n",
    "        messagebox.showerror(\"Error\", \"Number of columns must be an integer\")\n",
    "        return\n",
    "    \n",
    "    # YOUR CODE HERE - process the file\n",
    "    process_data(file_path)\n",
    "    \n",
    "    messagebox.showinfo(\"Success\", \"Processing complete!\")\n",
    "    root.destroy()\n",
    "\n",
    "# Create window\n",
    "root = tk.Tk()\n",
    "root.title(\"Feedback Compiler\")\n",
    "root.geometry(\"550x200\")\n",
    "\n",
    "# Variables\n",
    "file_path_var = tk.StringVar()\n",
    "num_cols_var = tk.StringVar()\n",
    "\n",
    "# File selector row\n",
    "tk.Label(root, text=\"Feedback File:\", font=(\"Arial\", 10)).grid(row=0, column=0, sticky=\"w\", padx=20, pady=15)\n",
    "tk.Entry(root, textvariable=file_path_var, width=35, font=(\"Arial\", 10)).grid(row=0, column=1, padx=10, pady=15)\n",
    "tk.Button(root, text=\"Browse\", command=browse_file, font=(\"Arial\", 10)).grid(row=0, column=2, padx=10, pady=15)\n",
    "\n",
    "# Number of columns row\n",
    "tk.Label(root, text=\"Number of data columns:\", font=(\"Arial\", 10)).grid(row=1, column=0, sticky=\"w\", padx=20, pady=15)\n",
    "tk.Entry(root, textvariable=num_cols_var, width=35, font=(\"Arial\", 10)).grid(row=1, column=1, padx=10, pady=15)\n",
    "\n",
    "# Submit button\n",
    "tk.Button(root, text=\"Process Feedback\", command=submit, bg=\"#4CAF50\", fg=\"white\", font=(\"Arial\", 12, \"bold\"), padx=30, pady=10).grid(row=2, column=1, pady=20)\n",
    "\n",
    "root.mainloop()"
   ]
  },
  {
   "cell_type": "code",
   "execution_count": null,
   "id": "340394b0",
   "metadata": {},
   "outputs": [],
   "source": []
  }
 ],
 "metadata": {
  "kernelspec": {
   "display_name": "saturn",
   "language": "python",
   "name": "saturn"
  },
  "language_info": {
   "codemirror_mode": {
    "name": "ipython",
    "version": 3
   },
   "file_extension": ".py",
   "mimetype": "text/x-python",
   "name": "python",
   "nbconvert_exporter": "python",
   "pygments_lexer": "ipython3",
   "version": "3.10.13"
  }
 },
 "nbformat": 4,
 "nbformat_minor": 5
}
